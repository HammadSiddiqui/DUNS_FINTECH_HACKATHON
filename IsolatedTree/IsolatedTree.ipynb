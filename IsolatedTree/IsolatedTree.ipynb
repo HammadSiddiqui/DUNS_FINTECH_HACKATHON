{
 "cells": [
  {
   "cell_type": "code",
   "execution_count": 70,
   "metadata": {
    "collapsed": false
   },
   "outputs": [],
   "source": [
    "import pandas\n",
    "import numpy as np\n",
    "import matplotlib.pyplot as plt\n",
    "from sklearn.ensemble import IsolationForest"
   ]
  },
  {
   "cell_type": "code",
   "execution_count": 183,
   "metadata": {
    "collapsed": false,
    "scrolled": false
   },
   "outputs": [],
   "source": [
    "df = pandas.read_csv('dt_all_transactions.csv')"
   ]
  },
  {
   "cell_type": "code",
   "execution_count": 196,
   "metadata": {
    "collapsed": false
   },
   "outputs": [],
   "source": [
    "df[\"type\"] = df[\"type\"].astype('category')\n",
    "df[\"operation\"] = df[\"operation\"].astype('category')\n",
    "df[\"bank\"] = df[\"bank\"].astype('category')\n",
    "#df[\"trans_date\"] = df[\"trans_date\"].astype('datetime64')\n",
    "df[\"account\"] = df[\"account\"].fillna(-1)\n",
    "df[\"CRIMES_95\"] = df[\"CRIMES_95\"].astype('float').fillna(-1)"
   ]
  },
  {
   "cell_type": "code",
   "execution_count": null,
   "metadata": {
    "collapsed": true
   },
   "outputs": [],
   "source": []
  },
  {
   "cell_type": "code",
   "execution_count": 186,
   "metadata": {
    "collapsed": true
   },
   "outputs": [],
   "source": [
    "cat_columns = df.select_dtypes(['category']).columns\n",
    "df[cat_columns] = df[cat_columns].apply(lambda x: x.cat.codes)"
   ]
  },
  {
   "cell_type": "code",
   "execution_count": 162,
   "metadata": {
    "collapsed": false
   },
   "outputs": [
    {
     "data": {
      "text/plain": [
       "pandas.core.series.Series"
      ]
     },
     "execution_count": 162,
     "metadata": {},
     "output_type": "execute_result"
    }
   ],
   "source": []
  },
  {
   "cell_type": "code",
   "execution_count": 187,
   "metadata": {
    "collapsed": false
   },
   "outputs": [
    {
     "name": "stdout",
     "output_type": "stream",
     "text": [
      "        Unnamed: 0  district_id  account_id  trans_id trans_date  type  \\\n",
      "0                1           18           1         1 1995-03-24     0   \n",
      "1                2           18           1         5 1995-04-13     0   \n",
      "2                3           18           1       199 1995-04-23     0   \n",
      "3                4           18           1   3530438 1995-04-30     0   \n",
      "4                5           18           1         6 1995-05-13     0   \n",
      "5                6           18           1       200 1995-05-23     0   \n",
      "6                7           18           1   3530439 1995-05-31     0   \n",
      "7                8           18           1         7 1995-06-13     0   \n",
      "8                9           18           1       201 1995-06-22     1   \n",
      "9               10           18           1   3530440 1995-06-30     0   \n",
      "10              11           18           1         8 1995-07-13     0   \n",
      "11              12           18           1       202 1995-07-22     1   \n",
      "12              13           18           1   3530441 1995-07-31     0   \n",
      "13              14           18           1         9 1995-08-13     0   \n",
      "14              15           18           1       203 1995-08-21     1   \n",
      "15              16           18           1   3530442 1995-08-31     0   \n",
      "16              17           18           1       159 1995-08-31     1   \n",
      "17              18           18           1        58 1995-09-05     1   \n",
      "18              19           18           1        10 1995-09-13     0   \n",
      "19              20           18           1       204 1995-09-20     1   \n",
      "20              21           18           1       160 1995-09-30     1   \n",
      "21              22           18           1   3530443 1995-09-30     0   \n",
      "22              23           18           1        59 1995-10-05     1   \n",
      "23              24           18           1        11 1995-10-13     0   \n",
      "24              25           18           1       205 1995-10-20     1   \n",
      "25              26           18           1   3530444 1995-10-31     0   \n",
      "26              27           18           1       161 1995-10-31     1   \n",
      "27              28           18           1        60 1995-11-05     1   \n",
      "28              29           18           1        12 1995-11-13     0   \n",
      "29              30           18           1       206 1995-11-19     1   \n",
      "...            ...          ...         ...       ...        ...   ...   \n",
      "499970      499971           41        2303   3606135 1998-05-31     0   \n",
      "499971      499972           41        2303    674092 1998-06-12     0   \n",
      "499972      499973           41        2303    674128 1998-06-13     1   \n",
      "499973      499974           41        2303    674231 1998-06-17     1   \n",
      "499974      499975           41        2303    674175 1998-06-22     1   \n",
      "499975      499976           41        2303    674173 1998-06-24     1   \n",
      "499976      499977           41        2303    674207 1998-06-30     1   \n",
      "499977      499978           41        2303   3606136 1998-06-30     0   \n",
      "499978      499979           41        2303    674093 1998-07-12     0   \n",
      "499979      499980           41        2303    674129 1998-07-13     1   \n",
      "499980      499981           41        2303    674232 1998-07-17     1   \n",
      "499981      499982           41        2303    674208 1998-07-31     1   \n",
      "499982      499983           41        2303   3606137 1998-07-31     0   \n",
      "499983      499984           41        2303    674094 1998-08-12     0   \n",
      "499984      499985           41        2303    674176 1998-08-12     1   \n",
      "499985      499986           41        2303    674130 1998-08-13     1   \n",
      "499986      499987           41        2303    674233 1998-08-16     1   \n",
      "499987      499988           41        2303   3606138 1998-08-31     0   \n",
      "499988      499989           41        2303    674209 1998-08-31     1   \n",
      "499989      499990           41        2303    674095 1998-09-12     0   \n",
      "499990      499991           41        2303    674131 1998-09-13     1   \n",
      "499991      499992           41        2303    674234 1998-09-15     1   \n",
      "499992      499993           41        2303   3606139 1998-09-30     0   \n",
      "499993      499994           41        2303    674210 1998-09-30     1   \n",
      "499994      499995           41        2303    674096 1998-10-12     0   \n",
      "499995      499996           41        2303    674132 1998-10-13     1   \n",
      "499996      499997           41        2303    674235 1998-10-15     1   \n",
      "499997      499998           41        2303   3606140 1998-10-31     0   \n",
      "499998      499999           41        2303    674211 1998-10-31     1   \n",
      "499999      500000           41        2303    674097 1998-11-12     0   \n",
      "\n",
      "        operation   amount  balance           k_symbol     ...       \\\n",
      "0               0   1000.0   1000.0                NaN     ...        \n",
      "1               2   3679.0   4679.0                NaN     ...        \n",
      "2               0  12600.0  17279.0                NaN     ...        \n",
      "3              -1     19.2  17298.2  INTEREST_CREDITED     ...        \n",
      "4               2   3679.0  20977.2                NaN     ...        \n",
      "5               0   2100.0  23077.2                NaN     ...        \n",
      "6              -1     79.0  23156.2  INTEREST_CREDITED     ...        \n",
      "7               2   3679.0  26835.2                NaN     ...        \n",
      "8               4    200.0  26635.2                NaN     ...        \n",
      "9              -1    100.6  26735.8  INTEREST_CREDITED     ...        \n",
      "10              2   3679.0  30414.8                NaN     ...        \n",
      "11              4   5300.0  25114.8                NaN     ...        \n",
      "12             -1    108.9  25223.7  INTEREST_CREDITED     ...        \n",
      "13              2   3679.0  28902.7                NaN     ...        \n",
      "14              4   7500.0  21402.7                NaN     ...        \n",
      "15             -1     99.2  21501.9  INTEREST_CREDITED     ...        \n",
      "16              4     14.6  21487.3  PAYMENT_STATEMENT     ...        \n",
      "17              3   2452.0  19035.3          HOUSEHOLD     ...        \n",
      "18              2   3679.0  22714.3                NaN     ...        \n",
      "19              4    700.0  22014.3                NaN     ...        \n",
      "20              4     14.6  22091.2  PAYMENT_STATEMENT     ...        \n",
      "21             -1     91.5  22105.8  INTEREST_CREDITED     ...        \n",
      "22              3   2452.0  19639.2          HOUSEHOLD     ...        \n",
      "23              2   3679.0  23318.2                NaN     ...        \n",
      "24              4   2900.0  20418.2                NaN     ...        \n",
      "25             -1     90.5  20508.7  INTEREST_CREDITED     ...        \n",
      "26              4     14.6  20494.1  PAYMENT_STATEMENT     ...        \n",
      "27              3   2452.0  18042.1          HOUSEHOLD     ...        \n",
      "28              2   3679.0  21721.1                NaN     ...        \n",
      "29              4   1900.0  19821.1                NaN     ...        \n",
      "...           ...      ...      ...                ...     ...        \n",
      "499970         -1    103.7  23479.9  INTEREST_CREDITED     ...        \n",
      "499971          0  29713.5  53178.8                NaN     ...        \n",
      "499972          3   7892.0  45286.8          HOUSEHOLD     ...        \n",
      "499973          4  17200.0  28086.8                NaN     ...        \n",
      "499974          4   4440.0  23646.8                NaN     ...        \n",
      "499975          4   5400.0  18246.8                NaN     ...        \n",
      "499976          4     14.6  18339.9  PAYMENT_STATEMENT     ...        \n",
      "499977         -1    107.7  18354.5  INTEREST_CREDITED     ...        \n",
      "499978          0  19809.0  38148.9                NaN     ...        \n",
      "499979          3   7892.0  30256.9          HOUSEHOLD     ...        \n",
      "499980          4   7200.0  23056.9                NaN     ...        \n",
      "499981          4     14.6  23134.2  PAYMENT_STATEMENT     ...        \n",
      "499982         -1     91.9  23148.8  INTEREST_CREDITED     ...        \n",
      "499983          0  19809.0  42943.2                NaN     ...        \n",
      "499984          4   3480.0  39463.2                NaN     ...        \n",
      "499985          3   7892.0  31571.2          HOUSEHOLD     ...        \n",
      "499986          4  11600.0  19971.2                NaN     ...        \n",
      "499987         -1     94.7  20065.9  INTEREST_CREDITED     ...        \n",
      "499988          4     14.6  20051.3  PAYMENT_STATEMENT     ...        \n",
      "499989          0  19809.0  39860.3                NaN     ...        \n",
      "499990          3   7892.0  31968.3          HOUSEHOLD     ...        \n",
      "499991          4  11200.0  20768.3                NaN     ...        \n",
      "499992         -1     87.9  20856.3  INTEREST_CREDITED     ...        \n",
      "499993          4     14.6  20841.7  PAYMENT_STATEMENT     ...        \n",
      "499994          0  19809.0  40650.7                NaN     ...        \n",
      "499995          3   7892.0  32758.7          HOUSEHOLD     ...        \n",
      "499996          4  12500.0  20258.7                NaN     ...        \n",
      "499997         -1     88.1  20346.8  INTEREST_CREDITED     ...        \n",
      "499998          4     14.6  20332.2  PAYMENT_STATEMENT     ...        \n",
      "499999          0  19809.0  40141.2                NaN     ...        \n",
      "\n",
      "        AVG_SALARY  UNEMP_95 UNEMP_96  ENTR CRIMES_95  CRIMES_96  last_trans  \\\n",
      "0             8968      2.83     3.35   131      1740       1910           0   \n",
      "1             8968      2.83     3.35   131      1740       1910          20   \n",
      "2             8968      2.83     3.35   131      1740       1910          10   \n",
      "3             8968      2.83     3.35   131      1740       1910           7   \n",
      "4             8968      2.83     3.35   131      1740       1910          13   \n",
      "5             8968      2.83     3.35   131      1740       1910          10   \n",
      "6             8968      2.83     3.35   131      1740       1910           8   \n",
      "7             8968      2.83     3.35   131      1740       1910          13   \n",
      "8             8968      2.83     3.35   131      1740       1910           9   \n",
      "9             8968      2.83     3.35   131      1740       1910           8   \n",
      "10            8968      2.83     3.35   131      1740       1910          13   \n",
      "11            8968      2.83     3.35   131      1740       1910           9   \n",
      "12            8968      2.83     3.35   131      1740       1910           9   \n",
      "13            8968      2.83     3.35   131      1740       1910          13   \n",
      "14            8968      2.83     3.35   131      1740       1910           8   \n",
      "15            8968      2.83     3.35   131      1740       1910          10   \n",
      "16            8968      2.83     3.35   131      1740       1910           0   \n",
      "17            8968      2.83     3.35   131      1740       1910           5   \n",
      "18            8968      2.83     3.35   131      1740       1910           8   \n",
      "19            8968      2.83     3.35   131      1740       1910           7   \n",
      "20            8968      2.83     3.35   131      1740       1910          10   \n",
      "21            8968      2.83     3.35   131      1740       1910           0   \n",
      "22            8968      2.83     3.35   131      1740       1910           5   \n",
      "23            8968      2.83     3.35   131      1740       1910           8   \n",
      "24            8968      2.83     3.35   131      1740       1910           7   \n",
      "25            8968      2.83     3.35   131      1740       1910          11   \n",
      "26            8968      2.83     3.35   131      1740       1910           0   \n",
      "27            8968      2.83     3.35   131      1740       1910           5   \n",
      "28            8968      2.83     3.35   131      1740       1910           8   \n",
      "29            8968      2.83     3.35   131      1740       1910           6   \n",
      "...            ...       ...      ...   ...       ...        ...         ...   \n",
      "499970        9832      3.32     4.48   114      6445       5471           0   \n",
      "499971        9832      3.32     4.48   114      6445       5471          12   \n",
      "499972        9832      3.32     4.48   114      6445       5471           1   \n",
      "499973        9832      3.32     4.48   114      6445       5471           4   \n",
      "499974        9832      3.32     4.48   114      6445       5471           5   \n",
      "499975        9832      3.32     4.48   114      6445       5471           2   \n",
      "499976        9832      3.32     4.48   114      6445       5471           6   \n",
      "499977        9832      3.32     4.48   114      6445       5471           0   \n",
      "499978        9832      3.32     4.48   114      6445       5471          12   \n",
      "499979        9832      3.32     4.48   114      6445       5471           1   \n",
      "499980        9832      3.32     4.48   114      6445       5471           4   \n",
      "499981        9832      3.32     4.48   114      6445       5471          14   \n",
      "499982        9832      3.32     4.48   114      6445       5471           0   \n",
      "499983        9832      3.32     4.48   114      6445       5471          12   \n",
      "499984        9832      3.32     4.48   114      6445       5471           0   \n",
      "499985        9832      3.32     4.48   114      6445       5471           1   \n",
      "499986        9832      3.32     4.48   114      6445       5471           3   \n",
      "499987        9832      3.32     4.48   114      6445       5471          15   \n",
      "499988        9832      3.32     4.48   114      6445       5471           0   \n",
      "499989        9832      3.32     4.48   114      6445       5471          12   \n",
      "499990        9832      3.32     4.48   114      6445       5471           1   \n",
      "499991        9832      3.32     4.48   114      6445       5471           2   \n",
      "499992        9832      3.32     4.48   114      6445       5471          15   \n",
      "499993        9832      3.32     4.48   114      6445       5471           0   \n",
      "499994        9832      3.32     4.48   114      6445       5471          12   \n",
      "499995        9832      3.32     4.48   114      6445       5471           1   \n",
      "499996        9832      3.32     4.48   114      6445       5471           2   \n",
      "499997        9832      3.32     4.48   114      6445       5471          16   \n",
      "499998        9832      3.32     4.48   114      6445       5471           0   \n",
      "499999        9832      3.32     4.48   114      6445       5471          12   \n",
      "\n",
      "       SARS_layer1  SARS_layer2  SARS_layer3  \n",
      "0                0            0            0  \n",
      "1                0            0            0  \n",
      "2                1            0            0  \n",
      "3                1            1            0  \n",
      "4                0            0            0  \n",
      "5                1            0            0  \n",
      "6                0            0            0  \n",
      "7                0            0            0  \n",
      "8                0            0            0  \n",
      "9                0            0            0  \n",
      "10               0            0            0  \n",
      "11               1            1            0  \n",
      "12               1            1            0  \n",
      "13               0            0            0  \n",
      "14               1            1            0  \n",
      "15               1            1            0  \n",
      "16               0            0            0  \n",
      "17               0            0            0  \n",
      "18               1            0            0  \n",
      "19               0            0            0  \n",
      "20               0            0            0  \n",
      "21               0            0            0  \n",
      "22               0            0            0  \n",
      "23               1            0            0  \n",
      "24               1            1            0  \n",
      "25               0            0            0  \n",
      "26               0            0            0  \n",
      "27               0            0            0  \n",
      "28               1            0            0  \n",
      "29               1            1            0  \n",
      "...            ...          ...          ...  \n",
      "499970           0            0            0  \n",
      "499971           1            0            0  \n",
      "499972           1            0            0  \n",
      "499973           1            1            0  \n",
      "499974           1            1            0  \n",
      "499975           1            1            0  \n",
      "499976           1            1            0  \n",
      "499977           0            0            0  \n",
      "499978           1            0            0  \n",
      "499979           1            0            0  \n",
      "499980           1            1            0  \n",
      "499981           1            1            0  \n",
      "499982           0            0            0  \n",
      "499983           1            0            0  \n",
      "499984           1            1            0  \n",
      "499985           1            0            0  \n",
      "499986           1            1            0  \n",
      "499987           1            1            0  \n",
      "499988           0            0            0  \n",
      "499989           1            0            0  \n",
      "499990           1            0            0  \n",
      "499991           1            1            0  \n",
      "499992           1            1            0  \n",
      "499993           0            0            0  \n",
      "499994           1            0            0  \n",
      "499995           1            0            0  \n",
      "499996           1            1            0  \n",
      "499997           0            0            0  \n",
      "499998           0            0            0  \n",
      "499999           1            0            0  \n",
      "\n",
      "[500000 rows x 23 columns]\n"
     ]
    }
   ],
   "source": [
    "print(df)"
   ]
  },
  {
   "cell_type": "code",
   "execution_count": 188,
   "metadata": {
    "collapsed": false
   },
   "outputs": [],
   "source": [
    "rng = np.random.RandomState(42)"
   ]
  },
  {
   "cell_type": "code",
   "execution_count": 189,
   "metadata": {
    "collapsed": false,
    "scrolled": true
   },
   "outputs": [],
   "source": [
    "def IsolationForestTrain(X_train, cont=0.1):\n",
    "    rng = check_random_state(42)\n",
    "    clf = IsolationForest(max_samples=100, random_state=rng, contamination=cont)\n",
    "    clf.fit(X_train)\n",
    "    y_pred_train = clf.predict(X_train)\n",
    "    return y_pred_train\n"
   ]
  },
  {
   "cell_type": "code",
   "execution_count": 231,
   "metadata": {
    "collapsed": false
   },
   "outputs": [],
   "source": [
    "X_train = np.array(df[[\"account_id\", \"bank\", \"type\", \"operation\", \"amount\", \"balance\", \"account\", \"AVG_SALARY\",\"UNEMP_96\", \"ENTR\", \"CRIMES_96\", \"last_trans\"]])\n",
    "Y_train_sars1 = np.array(df[[\"SARS_layer1\"]])\n",
    "Y_train_sars2 = np.array(df[[\"SARS_layer2\"]])\n",
    "Y_train_sars3 = np.array(df[[\"SARS_layer3\"]])\n",
    "Y_train_sars1[Y_train_sars1 == 0] = -1\n",
    "Y_train_sars2[Y_train_sars2 == 0] = -1\n",
    "Y_train_sars3[Y_train_sars3 == 0] = -1\n",
    "y_pred_train = IsolationForestTrain(X_train)"
   ]
  },
  {
   "cell_type": "code",
   "execution_count": 232,
   "metadata": {
    "collapsed": false
   },
   "outputs": [
    {
     "name": "stdout",
     "output_type": "stream",
     "text": [
      "449999\n",
      "50001\n"
     ]
    }
   ],
   "source": [
    "print(list(y_pred_train).count(1))\n",
    "print(list(y_pred_train).count(-1))"
   ]
  },
  {
   "cell_type": "code",
   "execution_count": 233,
   "metadata": {
    "collapsed": false
   },
   "outputs": [
    {
     "name": "stdout",
     "output_type": "stream",
     "text": [
      "48626\n",
      "451374\n"
     ]
    }
   ],
   "source": [
    "print(list(Y_train_sars3).count(1))\n",
    "print(list(Y_train_sars3).count(-1))"
   ]
  },
  {
   "cell_type": "code",
   "execution_count": 234,
   "metadata": {
    "collapsed": false
   },
   "outputs": [
    {
     "name": "stdout",
     "output_type": "stream",
     "text": [
      "88749\n",
      "411251\n"
     ]
    }
   ],
   "source": [
    "compare = []\n",
    "inverse = []\n",
    "for i in range(len(Y_train_sars3)):\n",
    "    compare.append( Y_train_sars3[i][0] == y_pred_train[i] )\n",
    "    inverse.append( Y_train_sars3[i][0] != y_pred_train[i] )\n",
    "print(compare.count(1))\n",
    "print(inverse.count(1))"
   ]
  },
  {
   "cell_type": "code",
   "execution_count": 236,
   "metadata": {
    "collapsed": false
   },
   "outputs": [],
   "source": [
    "y_final_pred = y_pred_train\n",
    "if compare.count(1) < inverse.count(1):\n",
    "    #y_final_pred[y_pred_train == 1] = 0\n",
    "    #y_final_pred[y_pred_train == -1] = 1\n",
    "    y_final_pred = [ 1 if value == -1 else 0 for value in y_pred_train ]\n",
    "else:\n",
    "    y_final_pred = [ -1 if value == 0 else 1 for value in y_pred_train ]"
   ]
  },
  {
   "cell_type": "code",
   "execution_count": 237,
   "metadata": {
    "collapsed": false
   },
   "outputs": [
    {
     "name": "stdout",
     "output_type": "stream",
     "text": [
      "50001\n",
      "449999\n"
     ]
    }
   ],
   "source": [
    "print(list(y_final_pred).count(1))\n",
    "print(list(y_final_pred).count(0))"
   ]
  },
  {
   "cell_type": "code",
   "execution_count": 244,
   "metadata": {
    "collapsed": false
   },
   "outputs": [
    {
     "name": "stdout",
     "output_type": "stream",
     "text": [
      "0\n"
     ]
    }
   ],
   "source": [
    "compare_final = []\n",
    "for i in range(len(y_final_pred)):\n",
    "    compare_final.append( y_final_pred[i] == y_pred_train[i] )\n",
    "\n",
    "print(list(compare_final).count(1)) #Expected 0 if there was a change in the outco"
   ]
  },
  {
   "cell_type": "code",
   "execution_count": 242,
   "metadata": {
    "collapsed": false
   },
   "outputs": [
    {
     "name": "stdout",
     "output_type": "stream",
     "text": [
      "        Unnamed: 0  district_id  account_id  trans_id  trans_date        type  \\\n",
      "0                1           18           1         1  1995-03-24      CREDIT   \n",
      "1                2           18           1         5  1995-04-13      CREDIT   \n",
      "2                3           18           1       199  1995-04-23      CREDIT   \n",
      "3                4           18           1   3530438  1995-04-30      CREDIT   \n",
      "4                5           18           1         6  1995-05-13      CREDIT   \n",
      "5                6           18           1       200  1995-05-23      CREDIT   \n",
      "6                7           18           1   3530439  1995-05-31      CREDIT   \n",
      "7                8           18           1         7  1995-06-13      CREDIT   \n",
      "8                9           18           1       201  1995-06-22  WITHDRAWAL   \n",
      "9               10           18           1   3530440  1995-06-30      CREDIT   \n",
      "10              11           18           1         8  1995-07-13      CREDIT   \n",
      "11              12           18           1       202  1995-07-22  WITHDRAWAL   \n",
      "12              13           18           1   3530441  1995-07-31      CREDIT   \n",
      "13              14           18           1         9  1995-08-13      CREDIT   \n",
      "14              15           18           1       203  1995-08-21  WITHDRAWAL   \n",
      "15              16           18           1   3530442  1995-08-31      CREDIT   \n",
      "16              17           18           1       159  1995-08-31  WITHDRAWAL   \n",
      "17              18           18           1        58  1995-09-05  WITHDRAWAL   \n",
      "18              19           18           1        10  1995-09-13      CREDIT   \n",
      "19              20           18           1       204  1995-09-20  WITHDRAWAL   \n",
      "20              21           18           1       160  1995-09-30  WITHDRAWAL   \n",
      "21              22           18           1   3530443  1995-09-30      CREDIT   \n",
      "22              23           18           1        59  1995-10-05  WITHDRAWAL   \n",
      "23              24           18           1        11  1995-10-13      CREDIT   \n",
      "24              25           18           1       205  1995-10-20  WITHDRAWAL   \n",
      "25              26           18           1   3530444  1995-10-31      CREDIT   \n",
      "26              27           18           1       161  1995-10-31  WITHDRAWAL   \n",
      "27              28           18           1        60  1995-11-05  WITHDRAWAL   \n",
      "28              29           18           1        12  1995-11-13      CREDIT   \n",
      "29              30           18           1       206  1995-11-19  WITHDRAWAL   \n",
      "...            ...          ...         ...       ...         ...         ...   \n",
      "499970      499971           41        2303   3606135  1998-05-31      CREDIT   \n",
      "499971      499972           41        2303    674092  1998-06-12      CREDIT   \n",
      "499972      499973           41        2303    674128  1998-06-13  WITHDRAWAL   \n",
      "499973      499974           41        2303    674231  1998-06-17  WITHDRAWAL   \n",
      "499974      499975           41        2303    674175  1998-06-22  WITHDRAWAL   \n",
      "499975      499976           41        2303    674173  1998-06-24  WITHDRAWAL   \n",
      "499976      499977           41        2303    674207  1998-06-30  WITHDRAWAL   \n",
      "499977      499978           41        2303   3606136  1998-06-30      CREDIT   \n",
      "499978      499979           41        2303    674093  1998-07-12      CREDIT   \n",
      "499979      499980           41        2303    674129  1998-07-13  WITHDRAWAL   \n",
      "499980      499981           41        2303    674232  1998-07-17  WITHDRAWAL   \n",
      "499981      499982           41        2303    674208  1998-07-31  WITHDRAWAL   \n",
      "499982      499983           41        2303   3606137  1998-07-31      CREDIT   \n",
      "499983      499984           41        2303    674094  1998-08-12      CREDIT   \n",
      "499984      499985           41        2303    674176  1998-08-12  WITHDRAWAL   \n",
      "499985      499986           41        2303    674130  1998-08-13  WITHDRAWAL   \n",
      "499986      499987           41        2303    674233  1998-08-16  WITHDRAWAL   \n",
      "499987      499988           41        2303   3606138  1998-08-31      CREDIT   \n",
      "499988      499989           41        2303    674209  1998-08-31  WITHDRAWAL   \n",
      "499989      499990           41        2303    674095  1998-09-12      CREDIT   \n",
      "499990      499991           41        2303    674131  1998-09-13  WITHDRAWAL   \n",
      "499991      499992           41        2303    674234  1998-09-15  WITHDRAWAL   \n",
      "499992      499993           41        2303   3606139  1998-09-30      CREDIT   \n",
      "499993      499994           41        2303    674210  1998-09-30  WITHDRAWAL   \n",
      "499994      499995           41        2303    674096  1998-10-12      CREDIT   \n",
      "499995      499996           41        2303    674132  1998-10-13  WITHDRAWAL   \n",
      "499996      499997           41        2303    674235  1998-10-15  WITHDRAWAL   \n",
      "499997      499998           41        2303   3606140  1998-10-31      CREDIT   \n",
      "499998      499999           41        2303    674211  1998-10-31  WITHDRAWAL   \n",
      "499999      500000           41        2303    674097  1998-11-12      CREDIT   \n",
      "\n",
      "                 operation   amount  balance           k_symbol  \\\n",
      "0              CASH_CREDIT   1000.0   1000.0                NaN   \n",
      "1             COLLECT_BANK   3679.0   4679.0                NaN   \n",
      "2              CASH_CREDIT  12600.0  17279.0                NaN   \n",
      "3                      NaN     19.2  17298.2  INTEREST_CREDITED   \n",
      "4             COLLECT_BANK   3679.0  20977.2                NaN   \n",
      "5              CASH_CREDIT   2100.0  23077.2                NaN   \n",
      "6                      NaN     79.0  23156.2  INTEREST_CREDITED   \n",
      "7             COLLECT_BANK   3679.0  26835.2                NaN   \n",
      "8          WITHDRAWAL_CASH    200.0  26635.2                NaN   \n",
      "9                      NaN    100.6  26735.8  INTEREST_CREDITED   \n",
      "10            COLLECT_BANK   3679.0  30414.8                NaN   \n",
      "11         WITHDRAWAL_CASH   5300.0  25114.8                NaN   \n",
      "12                     NaN    108.9  25223.7  INTEREST_CREDITED   \n",
      "13            COLLECT_BANK   3679.0  28902.7                NaN   \n",
      "14         WITHDRAWAL_CASH   7500.0  21402.7                NaN   \n",
      "15                     NaN     99.2  21501.9  INTEREST_CREDITED   \n",
      "16         WITHDRAWAL_CASH     14.6  21487.3  PAYMENT_STATEMENT   \n",
      "17      REMMITANCE_TO_BANK   2452.0  19035.3          HOUSEHOLD   \n",
      "18            COLLECT_BANK   3679.0  22714.3                NaN   \n",
      "19         WITHDRAWAL_CASH    700.0  22014.3                NaN   \n",
      "20         WITHDRAWAL_CASH     14.6  22091.2  PAYMENT_STATEMENT   \n",
      "21                     NaN     91.5  22105.8  INTEREST_CREDITED   \n",
      "22      REMMITANCE_TO_BANK   2452.0  19639.2          HOUSEHOLD   \n",
      "23            COLLECT_BANK   3679.0  23318.2                NaN   \n",
      "24         WITHDRAWAL_CASH   2900.0  20418.2                NaN   \n",
      "25                     NaN     90.5  20508.7  INTEREST_CREDITED   \n",
      "26         WITHDRAWAL_CASH     14.6  20494.1  PAYMENT_STATEMENT   \n",
      "27      REMMITANCE_TO_BANK   2452.0  18042.1          HOUSEHOLD   \n",
      "28            COLLECT_BANK   3679.0  21721.1                NaN   \n",
      "29         WITHDRAWAL_CASH   1900.0  19821.1                NaN   \n",
      "...                    ...      ...      ...                ...   \n",
      "499970                 NaN    103.7  23479.9  INTEREST_CREDITED   \n",
      "499971         CASH_CREDIT  29713.5  53178.8                NaN   \n",
      "499972  REMMITANCE_TO_BANK   7892.0  45286.8          HOUSEHOLD   \n",
      "499973     WITHDRAWAL_CASH  17200.0  28086.8                NaN   \n",
      "499974     WITHDRAWAL_CASH   4440.0  23646.8                NaN   \n",
      "499975     WITHDRAWAL_CASH   5400.0  18246.8                NaN   \n",
      "499976     WITHDRAWAL_CASH     14.6  18339.9  PAYMENT_STATEMENT   \n",
      "499977                 NaN    107.7  18354.5  INTEREST_CREDITED   \n",
      "499978         CASH_CREDIT  19809.0  38148.9                NaN   \n",
      "499979  REMMITANCE_TO_BANK   7892.0  30256.9          HOUSEHOLD   \n",
      "499980     WITHDRAWAL_CASH   7200.0  23056.9                NaN   \n",
      "499981     WITHDRAWAL_CASH     14.6  23134.2  PAYMENT_STATEMENT   \n",
      "499982                 NaN     91.9  23148.8  INTEREST_CREDITED   \n",
      "499983         CASH_CREDIT  19809.0  42943.2                NaN   \n",
      "499984     WITHDRAWAL_CASH   3480.0  39463.2                NaN   \n",
      "499985  REMMITANCE_TO_BANK   7892.0  31571.2          HOUSEHOLD   \n",
      "499986     WITHDRAWAL_CASH  11600.0  19971.2                NaN   \n",
      "499987                 NaN     94.7  20065.9  INTEREST_CREDITED   \n",
      "499988     WITHDRAWAL_CASH     14.6  20051.3  PAYMENT_STATEMENT   \n",
      "499989         CASH_CREDIT  19809.0  39860.3                NaN   \n",
      "499990  REMMITANCE_TO_BANK   7892.0  31968.3          HOUSEHOLD   \n",
      "499991     WITHDRAWAL_CASH  11200.0  20768.3                NaN   \n",
      "499992                 NaN     87.9  20856.3  INTEREST_CREDITED   \n",
      "499993     WITHDRAWAL_CASH     14.6  20841.7  PAYMENT_STATEMENT   \n",
      "499994         CASH_CREDIT  19809.0  40650.7                NaN   \n",
      "499995  REMMITANCE_TO_BANK   7892.0  32758.7          HOUSEHOLD   \n",
      "499996     WITHDRAWAL_CASH  12500.0  20258.7                NaN   \n",
      "499997                 NaN     88.1  20346.8  INTEREST_CREDITED   \n",
      "499998     WITHDRAWAL_CASH     14.6  20332.2  PAYMENT_STATEMENT   \n",
      "499999         CASH_CREDIT  19809.0  40141.2                NaN   \n",
      "\n",
      "              ...         UNEMP_95  UNEMP_96 ENTR  CRIMES_95 CRIMES_96  \\\n",
      "0             ...             2.83      3.35  131       1740      1910   \n",
      "1             ...             2.83      3.35  131       1740      1910   \n",
      "2             ...             2.83      3.35  131       1740      1910   \n",
      "3             ...             2.83      3.35  131       1740      1910   \n",
      "4             ...             2.83      3.35  131       1740      1910   \n",
      "5             ...             2.83      3.35  131       1740      1910   \n",
      "6             ...             2.83      3.35  131       1740      1910   \n",
      "7             ...             2.83      3.35  131       1740      1910   \n",
      "8             ...             2.83      3.35  131       1740      1910   \n",
      "9             ...             2.83      3.35  131       1740      1910   \n",
      "10            ...             2.83      3.35  131       1740      1910   \n",
      "11            ...             2.83      3.35  131       1740      1910   \n",
      "12            ...             2.83      3.35  131       1740      1910   \n",
      "13            ...             2.83      3.35  131       1740      1910   \n",
      "14            ...             2.83      3.35  131       1740      1910   \n",
      "15            ...             2.83      3.35  131       1740      1910   \n",
      "16            ...             2.83      3.35  131       1740      1910   \n",
      "17            ...             2.83      3.35  131       1740      1910   \n",
      "18            ...             2.83      3.35  131       1740      1910   \n",
      "19            ...             2.83      3.35  131       1740      1910   \n",
      "20            ...             2.83      3.35  131       1740      1910   \n",
      "21            ...             2.83      3.35  131       1740      1910   \n",
      "22            ...             2.83      3.35  131       1740      1910   \n",
      "23            ...             2.83      3.35  131       1740      1910   \n",
      "24            ...             2.83      3.35  131       1740      1910   \n",
      "25            ...             2.83      3.35  131       1740      1910   \n",
      "26            ...             2.83      3.35  131       1740      1910   \n",
      "27            ...             2.83      3.35  131       1740      1910   \n",
      "28            ...             2.83      3.35  131       1740      1910   \n",
      "29            ...             2.83      3.35  131       1740      1910   \n",
      "...           ...              ...       ...  ...        ...       ...   \n",
      "499970        ...             3.32      4.48  114       6445      5471   \n",
      "499971        ...             3.32      4.48  114       6445      5471   \n",
      "499972        ...             3.32      4.48  114       6445      5471   \n",
      "499973        ...             3.32      4.48  114       6445      5471   \n",
      "499974        ...             3.32      4.48  114       6445      5471   \n",
      "499975        ...             3.32      4.48  114       6445      5471   \n",
      "499976        ...             3.32      4.48  114       6445      5471   \n",
      "499977        ...             3.32      4.48  114       6445      5471   \n",
      "499978        ...             3.32      4.48  114       6445      5471   \n",
      "499979        ...             3.32      4.48  114       6445      5471   \n",
      "499980        ...             3.32      4.48  114       6445      5471   \n",
      "499981        ...             3.32      4.48  114       6445      5471   \n",
      "499982        ...             3.32      4.48  114       6445      5471   \n",
      "499983        ...             3.32      4.48  114       6445      5471   \n",
      "499984        ...             3.32      4.48  114       6445      5471   \n",
      "499985        ...             3.32      4.48  114       6445      5471   \n",
      "499986        ...             3.32      4.48  114       6445      5471   \n",
      "499987        ...             3.32      4.48  114       6445      5471   \n",
      "499988        ...             3.32      4.48  114       6445      5471   \n",
      "499989        ...             3.32      4.48  114       6445      5471   \n",
      "499990        ...             3.32      4.48  114       6445      5471   \n",
      "499991        ...             3.32      4.48  114       6445      5471   \n",
      "499992        ...             3.32      4.48  114       6445      5471   \n",
      "499993        ...             3.32      4.48  114       6445      5471   \n",
      "499994        ...             3.32      4.48  114       6445      5471   \n",
      "499995        ...             3.32      4.48  114       6445      5471   \n",
      "499996        ...             3.32      4.48  114       6445      5471   \n",
      "499997        ...             3.32      4.48  114       6445      5471   \n",
      "499998        ...             3.32      4.48  114       6445      5471   \n",
      "499999        ...             3.32      4.48  114       6445      5471   \n",
      "\n",
      "        last_trans  SARS_layer1 SARS_layer2  SARS_layer3  predicted_anomaly  \n",
      "0                0            0           0            0                  0  \n",
      "1               20            0           0            0                  0  \n",
      "2               10            1           0            0                  0  \n",
      "3                7            1           1            0                  0  \n",
      "4               13            0           0            0                  0  \n",
      "5               10            1           0            0                  0  \n",
      "6                8            0           0            0                  0  \n",
      "7               13            0           0            0                  0  \n",
      "8                9            0           0            0                  0  \n",
      "9                8            0           0            0                  0  \n",
      "10              13            0           0            0                  0  \n",
      "11               9            1           1            0                  0  \n",
      "12               9            1           1            0                  0  \n",
      "13              13            0           0            0                  0  \n",
      "14               8            1           1            0                  0  \n",
      "15              10            1           1            0                  0  \n",
      "16               0            0           0            0                  0  \n",
      "17               5            0           0            0                  0  \n",
      "18               8            1           0            0                  0  \n",
      "19               7            0           0            0                  0  \n",
      "20              10            0           0            0                  0  \n",
      "21               0            0           0            0                  0  \n",
      "22               5            0           0            0                  0  \n",
      "23               8            1           0            0                  0  \n",
      "24               7            1           1            0                  0  \n",
      "25              11            0           0            0                  0  \n",
      "26               0            0           0            0                  0  \n",
      "27               5            0           0            0                  0  \n",
      "28               8            1           0            0                  0  \n",
      "29               6            1           1            0                  0  \n",
      "...            ...          ...         ...          ...                ...  \n",
      "499970           0            0           0            0                  0  \n",
      "499971          12            1           0            0                  0  \n",
      "499972           1            1           0            0                  0  \n",
      "499973           4            1           1            0                  0  \n",
      "499974           5            1           1            0                  0  \n",
      "499975           2            1           1            0                  0  \n",
      "499976           6            1           1            0                  0  \n",
      "499977           0            0           0            0                  0  \n",
      "499978          12            1           0            0                  0  \n",
      "499979           1            1           0            0                  0  \n",
      "499980           4            1           1            0                  0  \n",
      "499981          14            1           1            0                  0  \n",
      "499982           0            0           0            0                  0  \n",
      "499983          12            1           0            0                  0  \n",
      "499984           0            1           1            0                  0  \n",
      "499985           1            1           0            0                  0  \n",
      "499986           3            1           1            0                  0  \n",
      "499987          15            1           1            0                  0  \n",
      "499988           0            0           0            0                  0  \n",
      "499989          12            1           0            0                  0  \n",
      "499990           1            1           0            0                  0  \n",
      "499991           2            1           1            0                  0  \n",
      "499992          15            1           1            0                  0  \n",
      "499993           0            0           0            0                  0  \n",
      "499994          12            1           0            0                  0  \n",
      "499995           1            1           0            0                  0  \n",
      "499996           2            1           1            0                  0  \n",
      "499997          16            0           0            0                  0  \n",
      "499998           0            0           0            0                  0  \n",
      "499999          12            1           0            0                  0  \n",
      "\n",
      "[500000 rows x 24 columns]\n"
     ]
    }
   ],
   "source": [
    "print df2"
   ]
  },
  {
   "cell_type": "code",
   "execution_count": 241,
   "metadata": {
    "collapsed": false
   },
   "outputs": [],
   "source": [
    "df2 = pandas.read_csv('dt_all_transactions.csv')\n",
    "df2[\"predicted_anomaly\"] = pandas.Series(y_final_pred)\n",
    "df2.to_csv(\"output.csv\")\n",
    "##END"
   ]
  },
  {
   "cell_type": "code",
   "execution_count": 147,
   "metadata": {
    "collapsed": false
   },
   "outputs": [
    {
     "name": "stdout",
     "output_type": "stream",
     "text": [
      "950688\n",
      "105632\n"
     ]
    }
   ],
   "source": [
    "print(list(y_pred_train).count(1))\n",
    "print(list(y_pred_train).count(-1))\n",
    "compare = []\n",
    "compare_small = []\n",
    "compare_small_vs_compare = []\n",
    "for i in range(len(Y_train)):\n",
    "    compare.append( Y_train[i][0] == y_pred_train[i] )\n",
    "    compare_small.append( Y_train[i][0] == y_pred_train[i] )\n",
    "    compare_small_vs_compare.append( y_pred_train_small[i] == y_pred_train[i] )"
   ]
  },
  {
   "cell_type": "code",
   "execution_count": 148,
   "metadata": {
    "collapsed": false
   },
   "outputs": [
    {
     "name": "stdout",
     "output_type": "stream",
     "text": [
      "With the big set of parameters, we get 190228 matches and 950688 suspicious transaction\n",
      "With the small set of parameters, we get 190228 matches and 950688 suspicious transactions\n",
      "With the big set of parameters vs the small set, we get 979356 matches and 76964 differences\n"
     ]
    }
   ],
   "source": [
    "print(\"With the big set of parameters, we get {} matches and {} suspicious transaction\").format(compare.count(1), list(y_pred_train).count(1))\n",
    "print(\"With the small set of parameters, we get {} matches and {} suspicious transactions\").format(compare_small.count(1), list(y_pred_train_small).count(1))\n",
    "print(\"With the big set of parameters vs the small set, we get {} matches and {} differences\").format(compare_small_vs_compare.count(1), compare_small_vs_compare.count(0))"
   ]
  },
  {
   "cell_type": "code",
   "execution_count": 157,
   "metadata": {
    "collapsed": false
   },
   "outputs": [
    {
     "name": "stdout",
     "output_type": "stream",
     "text": [
      "With contamination = 0.01, we get 114142 matches and 1045756 suspicious transaction\n",
      "With contamination = 0.02, we get 122521 matches and 1035193 suspicious transaction\n",
      "With contamination = 0.05, we get 147981 matches and 1003503 suspicious transaction\n",
      "With contamination = 0.2, we get 274736 matches and 845056 suspicious transaction\n"
     ]
    }
   ],
   "source": [
    "# Now I compare the outcome of the \n",
    "contamination_sets = [0.01, 0.02, 0.05, 0.2]\n",
    "\n",
    "for j in contamination_sets:\n",
    "    y_pred = IsolationForestTrain(X_train, cont=j)\n",
    "    aux = []\n",
    "    for i in range(len(Y_train)):\n",
    "        aux.append( Y_train[i][0] == y_pred[i] )\n",
    "    print(\"With contamination = {}, we get {} matches and {} suspicious transaction\")\\\n",
    "    .format(j, aux.count(1), list(y_pred).count(1))\n",
    "    "
   ]
  },
  {
   "cell_type": "code",
   "execution_count": null,
   "metadata": {
    "collapsed": true
   },
   "outputs": [],
   "source": [
    "df[\"predicted_anomaly\"] = pandas.Series(y_pred_train)\n"
   ]
  },
  {
   "cell_type": "code",
   "execution_count": 99,
   "metadata": {
    "collapsed": false
   },
   "outputs": [],
   "source": [
    "df.to_csv(\"output.csv\")"
   ]
  },
  {
   "cell_type": "code",
   "execution_count": 69,
   "metadata": {
    "collapsed": false
   },
   "outputs": [
    {
     "name": "stdout",
     "output_type": "stream",
     "text": [
      "18\n",
      "40\n",
      "[0 0 0 0 0 0 0 0 0 0 0 0 0 0 0 0 0 0 0 0 1 1 1 1 1 1 1 1 1 1 1 1 1 1 1 1 1\n",
      " 1 1 1]\n"
     ]
    }
   ],
   "source": [
    "from sklearn.utils import check_random_state\n",
    "\n",
    "rng = check_random_state(0)\n",
    "\n",
    "def test_iforest_performance():\n",
    "    \"\"\"Test Isolation Forest performs well\"\"\"\n",
    "\n",
    "    # Generate train/test data\n",
    "    rng = check_random_state(2)\n",
    "    X = 0.3 * rng.randn(120, 2)\n",
    "    X_train = np.r_[X + 2, X - 2]\n",
    "    X_train = X[:100]\n",
    "\n",
    "    # Generate some abnormal novel observations\n",
    "    X_outliers = rng.uniform(low=-4, high=4, size=(20, 2))\n",
    "    X_test = np.r_[X[100:], X_outliers]\n",
    "    y_test = np.array([0] * 20 + [1] * 20)\n",
    "\n",
    "    # fit the model\n",
    "    clf = IsolationForest(max_samples=100, random_state=rng).fit(X_train)\n",
    "\n",
    "    # predict scores (the lower, the more normal)\n",
    "    y_pred = - clf.decision_function(X_test)\n",
    "\n",
    "    # check that there is at most 6 errors (false positive or false negative)\n",
    "    #assert_greater(roc_auc_score(y_test, y_pred), 0.98)\n",
    "    print(len(list(y_pred[y_pred < 0])))\n",
    "    print(len(y_pred))\n",
    "    print(y_test)\n",
    "    \n",
    "test_iforest_performance()"
   ]
  },
  {
   "cell_type": "code",
   "execution_count": 169,
   "metadata": {
    "collapsed": false
   },
   "outputs": [
    {
     "ename": "NameError",
     "evalue": "name 'datetime' is not defined",
     "output_type": "error",
     "traceback": [
      "\u001b[0;31m---------------------------------------------------------------------------\u001b[0m",
      "\u001b[0;31mNameError\u001b[0m                                 Traceback (most recent call last)",
      "\u001b[0;32m<ipython-input-169-341393573f74>\u001b[0m in \u001b[0;36m<module>\u001b[0;34m()\u001b[0m\n\u001b[0;32m----> 1\u001b[0;31m \u001b[0mpandas\u001b[0m\u001b[1;33m.\u001b[0m\u001b[0mTimestamp\u001b[0m\u001b[1;33m(\u001b[0m\u001b[0mdatetime\u001b[0m\u001b[1;33m(\u001b[0m\u001b[1;36m2012\u001b[0m\u001b[1;33m,\u001b[0m \u001b[1;36m5\u001b[0m\u001b[1;33m,\u001b[0m \u001b[1;36m1\u001b[0m\u001b[1;33m)\u001b[0m\u001b[1;33m)\u001b[0m\u001b[1;33m\u001b[0m\u001b[0m\n\u001b[0m",
      "\u001b[0;31mNameError\u001b[0m: name 'datetime' is not defined"
     ]
    }
   ],
   "source": [
    "pandas.Timestamp(datetime(2012, 5, 1))"
   ]
  }
 ],
 "metadata": {
  "anaconda-cloud": {},
  "kernelspec": {
   "display_name": "Python [FinTechHackathon]",
   "language": "python",
   "name": "Python [FinTechHackathon]"
  },
  "language_info": {
   "codemirror_mode": {
    "name": "ipython",
    "version": 2
   },
   "file_extension": ".py",
   "mimetype": "text/x-python",
   "name": "python",
   "nbconvert_exporter": "python",
   "pygments_lexer": "ipython2",
   "version": "2.7.12"
  }
 },
 "nbformat": 4,
 "nbformat_minor": 0
}
